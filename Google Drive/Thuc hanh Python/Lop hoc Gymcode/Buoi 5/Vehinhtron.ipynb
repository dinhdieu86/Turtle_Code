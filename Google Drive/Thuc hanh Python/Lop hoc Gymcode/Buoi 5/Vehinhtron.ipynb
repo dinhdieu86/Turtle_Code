{
 "cells": [
  {
   "cell_type": "code",
   "execution_count": 6,
   "id": "5488e6ad",
   "metadata": {
    "scrolled": true
   },
   "outputs": [
    {
     "data": {
      "text/plain": [
       "<function turtle.mainloop()>"
      ]
     },
     "execution_count": 6,
     "metadata": {},
     "output_type": "execute_result"
    }
   ],
   "source": [
    "import turtle\n",
    "turtle.pensize (5)\n",
    "turtle.pencolor(\"red\")\n",
    "turtle.fillcolor(\"blue\")\n",
    "turtle.begin_fill()\n",
    "\n",
    "turtle.circle(100)\n",
    "turtle.end_fill()\n",
    "turtle.done"
   ]
  },
  {
   "cell_type": "code",
   "execution_count": 19,
   "id": "63ebc5dd",
   "metadata": {},
   "outputs": [],
   "source": [
    "import turtle\n",
    "hcn = turtle.Turtle()\n",
    "for x in range(2):\n",
    "    hcn.forward(100)\n",
    "    hcn.right(90)\n",
    "    hcn.forward(150)\n",
    "    hcn.right(90)\n",
    "    \n",
    "turtle.done()"
   ]
  },
  {
   "cell_type": "code",
   "execution_count": 21,
   "id": "0cfbf1ea",
   "metadata": {},
   "outputs": [],
   "source": [
    "# ColorSquareSpiral - Để vẽ hình xoắn ốc vuông có 4 màu\n",
    "import turtle\n",
    "t = turtle.Pen()\n",
    "colors = [\"red\", \"yellow\", \"blue\", \"green\"]\n",
    "for x in range(100):\n",
    "    t.pencolor(colors[x%4])\n",
    "    t.forward(x)\n",
    "    t.left(91)\n",
    "    \n",
    "turtle.done()"
   ]
  },
  {
   "cell_type": "code",
   "execution_count": 23,
   "id": "53198004",
   "metadata": {},
   "outputs": [],
   "source": [
    "# CircleSpiral1.py  - để vẽ một hình xoắn ốc cuốn tròn\n",
    "import turtle\n",
    "t = turtle.Pen()\n",
    "for x in range(100):\n",
    "    t.circle(x)\n",
    "    t.left(91)\n",
    "turtle.done()"
   ]
  },
  {
   "cell_type": "code",
   "execution_count": null,
   "id": "db716385",
   "metadata": {},
   "outputs": [],
   "source": [
    "# CircleSpiral1.py  - để vẽ một hình xoắn ốc cuốn tròn 4 màu\n",
    "import turtle\n",
    "t = turtle.Pen()\n",
    "colors = [\"red\", \"yellow\", \"blue\", \"green\"]\n",
    "\n",
    "for x in range(50):\n",
    "    t.pencolor(colors[x%4])\n",
    "    t.circle(x)\n",
    "    t.left(95)\n",
    "    \n",
    "turtle.done()\n"
   ]
  },
  {
   "cell_type": "code",
   "execution_count": null,
   "id": "96881bce",
   "metadata": {},
   "outputs": [],
   "source": []
  }
 ],
 "metadata": {
  "kernelspec": {
   "display_name": "Python 3 (ipykernel)",
   "language": "python",
   "name": "python3"
  },
  "language_info": {
   "codemirror_mode": {
    "name": "ipython",
    "version": 3
   },
   "file_extension": ".py",
   "mimetype": "text/x-python",
   "name": "python",
   "nbconvert_exporter": "python",
   "pygments_lexer": "ipython3",
   "version": "3.10.4"
  }
 },
 "nbformat": 4,
 "nbformat_minor": 5
}
